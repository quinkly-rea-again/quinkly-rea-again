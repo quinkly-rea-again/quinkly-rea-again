{
  "nbformat": 4,
  "nbformat_minor": 0,
  "metadata": {
    "colab": {
      "provenance": [],
      "authorship_tag": "ABX9TyN70C6IJ7hl2fhFSYU+AJiT",
      "include_colab_link": true
    },
    "kernelspec": {
      "name": "python3",
      "display_name": "Python 3"
    },
    "language_info": {
      "name": "python"
    },
    "widgets": {
      "application/vnd.jupyter.widget-state+json": {
        "80737e162a884928b77819f34510d7b1": {
          "model_module": "@jupyter-widgets/controls",
          "model_name": "FloatSliderModel",
          "model_module_version": "1.5.0",
          "state": {
            "_dom_classes": [],
            "_model_module": "@jupyter-widgets/controls",
            "_model_module_version": "1.5.0",
            "_model_name": "FloatSliderModel",
            "_view_count": null,
            "_view_module": "@jupyter-widgets/controls",
            "_view_module_version": "1.5.0",
            "_view_name": "FloatSliderView",
            "continuous_update": false,
            "description": "Real:",
            "description_tooltip": null,
            "disabled": false,
            "layout": "IPY_MODEL_e6f02c7c29d349b18a36ef3f81139eef",
            "max": 100,
            "min": -100,
            "orientation": "horizontal",
            "readout": true,
            "readout_format": ".2f",
            "step": 0.1,
            "style": "IPY_MODEL_f596a42eca3a43529e1e1bd5d1f6989d",
            "value": 99.02
          }
        },
        "e6f02c7c29d349b18a36ef3f81139eef": {
          "model_module": "@jupyter-widgets/base",
          "model_name": "LayoutModel",
          "model_module_version": "1.2.0",
          "state": {
            "_model_module": "@jupyter-widgets/base",
            "_model_module_version": "1.2.0",
            "_model_name": "LayoutModel",
            "_view_count": null,
            "_view_module": "@jupyter-widgets/base",
            "_view_module_version": "1.2.0",
            "_view_name": "LayoutView",
            "align_content": null,
            "align_items": null,
            "align_self": null,
            "border": null,
            "bottom": null,
            "display": null,
            "flex": null,
            "flex_flow": null,
            "grid_area": null,
            "grid_auto_columns": null,
            "grid_auto_flow": null,
            "grid_auto_rows": null,
            "grid_column": null,
            "grid_gap": null,
            "grid_row": null,
            "grid_template_areas": null,
            "grid_template_columns": null,
            "grid_template_rows": null,
            "height": null,
            "justify_content": null,
            "justify_items": null,
            "left": null,
            "margin": null,
            "max_height": null,
            "max_width": null,
            "min_height": null,
            "min_width": null,
            "object_fit": null,
            "object_position": null,
            "order": null,
            "overflow": null,
            "overflow_x": null,
            "overflow_y": null,
            "padding": null,
            "right": null,
            "top": null,
            "visibility": null,
            "width": null
          }
        },
        "f596a42eca3a43529e1e1bd5d1f6989d": {
          "model_module": "@jupyter-widgets/controls",
          "model_name": "SliderStyleModel",
          "model_module_version": "1.5.0",
          "state": {
            "_model_module": "@jupyter-widgets/controls",
            "_model_module_version": "1.5.0",
            "_model_name": "SliderStyleModel",
            "_view_count": null,
            "_view_module": "@jupyter-widgets/base",
            "_view_module_version": "1.2.0",
            "_view_name": "StyleView",
            "description_width": "",
            "handle_color": null
          }
        },
        "4bbd233e71d74532b6fca75dcfa9354b": {
          "model_module": "@jupyter-widgets/controls",
          "model_name": "FloatSliderModel",
          "model_module_version": "1.5.0",
          "state": {
            "_dom_classes": [],
            "_model_module": "@jupyter-widgets/controls",
            "_model_module_version": "1.5.0",
            "_model_name": "FloatSliderModel",
            "_view_count": null,
            "_view_module": "@jupyter-widgets/controls",
            "_view_module_version": "1.5.0",
            "_view_name": "FloatSliderView",
            "continuous_update": false,
            "description": "Imaginary:",
            "description_tooltip": null,
            "disabled": false,
            "layout": "IPY_MODEL_b2762743855b4f2ca0604ceaf942f28c",
            "max": 100,
            "min": -100,
            "orientation": "horizontal",
            "readout": true,
            "readout_format": ".2f",
            "step": 0.1,
            "style": "IPY_MODEL_cc84be38d75e4b24b9edb09da24d86c5",
            "value": 0
          }
        },
        "b2762743855b4f2ca0604ceaf942f28c": {
          "model_module": "@jupyter-widgets/base",
          "model_name": "LayoutModel",
          "model_module_version": "1.2.0",
          "state": {
            "_model_module": "@jupyter-widgets/base",
            "_model_module_version": "1.2.0",
            "_model_name": "LayoutModel",
            "_view_count": null,
            "_view_module": "@jupyter-widgets/base",
            "_view_module_version": "1.2.0",
            "_view_name": "LayoutView",
            "align_content": null,
            "align_items": null,
            "align_self": null,
            "border": null,
            "bottom": null,
            "display": null,
            "flex": null,
            "flex_flow": null,
            "grid_area": null,
            "grid_auto_columns": null,
            "grid_auto_flow": null,
            "grid_auto_rows": null,
            "grid_column": null,
            "grid_gap": null,
            "grid_row": null,
            "grid_template_areas": null,
            "grid_template_columns": null,
            "grid_template_rows": null,
            "height": null,
            "justify_content": null,
            "justify_items": null,
            "left": null,
            "margin": null,
            "max_height": null,
            "max_width": null,
            "min_height": null,
            "min_width": null,
            "object_fit": null,
            "object_position": null,
            "order": null,
            "overflow": null,
            "overflow_x": null,
            "overflow_y": null,
            "padding": null,
            "right": null,
            "top": null,
            "visibility": null,
            "width": null
          }
        },
        "cc84be38d75e4b24b9edb09da24d86c5": {
          "model_module": "@jupyter-widgets/controls",
          "model_name": "SliderStyleModel",
          "model_module_version": "1.5.0",
          "state": {
            "_model_module": "@jupyter-widgets/controls",
            "_model_module_version": "1.5.0",
            "_model_name": "SliderStyleModel",
            "_view_count": null,
            "_view_module": "@jupyter-widgets/base",
            "_view_module_version": "1.2.0",
            "_view_name": "StyleView",
            "description_width": "",
            "handle_color": null
          }
        },
        "97a155f6147e4ed0a39b6692f39e8b29": {
          "model_module": "@jupyter-widgets/controls",
          "model_name": "DropdownModel",
          "model_module_version": "1.5.0",
          "state": {
            "_dom_classes": [],
            "_model_module": "@jupyter-widgets/controls",
            "_model_module_version": "1.5.0",
            "_model_name": "DropdownModel",
            "_options_labels": [
              "None",
              "pi",
              "tau",
              "e"
            ],
            "_view_count": null,
            "_view_module": "@jupyter-widgets/controls",
            "_view_module_version": "1.5.0",
            "_view_name": "DropdownView",
            "description": "Irrational:",
            "description_tooltip": null,
            "disabled": false,
            "index": 2,
            "layout": "IPY_MODEL_10fa03ed3f6040ce9a0e0d4ff35bd506",
            "style": "IPY_MODEL_4a797ada225c47de8f6ea02bde246765"
          }
        },
        "10fa03ed3f6040ce9a0e0d4ff35bd506": {
          "model_module": "@jupyter-widgets/base",
          "model_name": "LayoutModel",
          "model_module_version": "1.2.0",
          "state": {
            "_model_module": "@jupyter-widgets/base",
            "_model_module_version": "1.2.0",
            "_model_name": "LayoutModel",
            "_view_count": null,
            "_view_module": "@jupyter-widgets/base",
            "_view_module_version": "1.2.0",
            "_view_name": "LayoutView",
            "align_content": null,
            "align_items": null,
            "align_self": null,
            "border": null,
            "bottom": null,
            "display": null,
            "flex": null,
            "flex_flow": null,
            "grid_area": null,
            "grid_auto_columns": null,
            "grid_auto_flow": null,
            "grid_auto_rows": null,
            "grid_column": null,
            "grid_gap": null,
            "grid_row": null,
            "grid_template_areas": null,
            "grid_template_columns": null,
            "grid_template_rows": null,
            "height": null,
            "justify_content": null,
            "justify_items": null,
            "left": null,
            "margin": null,
            "max_height": null,
            "max_width": null,
            "min_height": null,
            "min_width": null,
            "object_fit": null,
            "object_position": null,
            "order": null,
            "overflow": null,
            "overflow_x": null,
            "overflow_y": null,
            "padding": null,
            "right": null,
            "top": null,
            "visibility": null,
            "width": null
          }
        },
        "4a797ada225c47de8f6ea02bde246765": {
          "model_module": "@jupyter-widgets/controls",
          "model_name": "DescriptionStyleModel",
          "model_module_version": "1.5.0",
          "state": {
            "_model_module": "@jupyter-widgets/controls",
            "_model_module_version": "1.5.0",
            "_model_name": "DescriptionStyleModel",
            "_view_count": null,
            "_view_module": "@jupyter-widgets/base",
            "_view_module_version": "1.2.0",
            "_view_name": "StyleView",
            "description_width": ""
          }
        },
        "58e85e81e4f34464ad1dc433a71d178a": {
          "model_module": "@jupyter-widgets/controls",
          "model_name": "DropdownModel",
          "model_module_version": "1.5.0",
          "state": {
            "_dom_classes": [],
            "_model_module": "@jupyter-widgets/controls",
            "_model_module_version": "1.5.0",
            "_model_name": "DropdownModel",
            "_options_labels": [
              "+",
              "-",
              "*",
              "/",
              "**"
            ],
            "_view_count": null,
            "_view_module": "@jupyter-widgets/controls",
            "_view_module_version": "1.5.0",
            "_view_name": "DropdownView",
            "description": "Operation:",
            "description_tooltip": null,
            "disabled": false,
            "index": 0,
            "layout": "IPY_MODEL_3a483184f1654564b2279ade0ee07c11",
            "style": "IPY_MODEL_3462e599f9ad4470bf2af60a7f970e8b"
          }
        },
        "3a483184f1654564b2279ade0ee07c11": {
          "model_module": "@jupyter-widgets/base",
          "model_name": "LayoutModel",
          "model_module_version": "1.2.0",
          "state": {
            "_model_module": "@jupyter-widgets/base",
            "_model_module_version": "1.2.0",
            "_model_name": "LayoutModel",
            "_view_count": null,
            "_view_module": "@jupyter-widgets/base",
            "_view_module_version": "1.2.0",
            "_view_name": "LayoutView",
            "align_content": null,
            "align_items": null,
            "align_self": null,
            "border": null,
            "bottom": null,
            "display": null,
            "flex": null,
            "flex_flow": null,
            "grid_area": null,
            "grid_auto_columns": null,
            "grid_auto_flow": null,
            "grid_auto_rows": null,
            "grid_column": null,
            "grid_gap": null,
            "grid_row": null,
            "grid_template_areas": null,
            "grid_template_columns": null,
            "grid_template_rows": null,
            "height": null,
            "justify_content": null,
            "justify_items": null,
            "left": null,
            "margin": null,
            "max_height": null,
            "max_width": null,
            "min_height": null,
            "min_width": null,
            "object_fit": null,
            "object_position": null,
            "order": null,
            "overflow": null,
            "overflow_x": null,
            "overflow_y": null,
            "padding": null,
            "right": null,
            "top": null,
            "visibility": null,
            "width": null
          }
        },
        "3462e599f9ad4470bf2af60a7f970e8b": {
          "model_module": "@jupyter-widgets/controls",
          "model_name": "DescriptionStyleModel",
          "model_module_version": "1.5.0",
          "state": {
            "_model_module": "@jupyter-widgets/controls",
            "_model_module_version": "1.5.0",
            "_model_name": "DescriptionStyleModel",
            "_view_count": null,
            "_view_module": "@jupyter-widgets/base",
            "_view_module_version": "1.2.0",
            "_view_name": "StyleView",
            "description_width": ""
          }
        },
        "eb46b08a04d04a9487479ee1bbcd7fec": {
          "model_module": "@jupyter-widgets/output",
          "model_name": "OutputModel",
          "model_module_version": "1.0.0",
          "state": {
            "_dom_classes": [],
            "_model_module": "@jupyter-widgets/output",
            "_model_module_version": "1.0.0",
            "_model_name": "OutputModel",
            "_view_count": null,
            "_view_module": "@jupyter-widgets/output",
            "_view_module_version": "1.0.0",
            "_view_name": "OutputView",
            "layout": "IPY_MODEL_d54b755fde1947c4bab83f0822d698aa",
            "msg_id": "",
            "outputs": [
              {
                "output_type": "stream",
                "name": "stdout",
                "text": [
                  "Result: 105.30 + 0.00i\n"
                ]
              }
            ]
          }
        },
        "d54b755fde1947c4bab83f0822d698aa": {
          "model_module": "@jupyter-widgets/base",
          "model_name": "LayoutModel",
          "model_module_version": "1.2.0",
          "state": {
            "_model_module": "@jupyter-widgets/base",
            "_model_module_version": "1.2.0",
            "_model_name": "LayoutModel",
            "_view_count": null,
            "_view_module": "@jupyter-widgets/base",
            "_view_module_version": "1.2.0",
            "_view_name": "LayoutView",
            "align_content": null,
            "align_items": null,
            "align_self": null,
            "border": null,
            "bottom": null,
            "display": null,
            "flex": null,
            "flex_flow": null,
            "grid_area": null,
            "grid_auto_columns": null,
            "grid_auto_flow": null,
            "grid_auto_rows": null,
            "grid_column": null,
            "grid_gap": null,
            "grid_row": null,
            "grid_template_areas": null,
            "grid_template_columns": null,
            "grid_template_rows": null,
            "height": null,
            "justify_content": null,
            "justify_items": null,
            "left": null,
            "margin": null,
            "max_height": null,
            "max_width": null,
            "min_height": null,
            "min_width": null,
            "object_fit": null,
            "object_position": null,
            "order": null,
            "overflow": null,
            "overflow_x": null,
            "overflow_y": null,
            "padding": null,
            "right": null,
            "top": null,
            "visibility": null,
            "width": null
          }
        }
      }
    }
  },
  "cells": [
    {
      "cell_type": "markdown",
      "metadata": {
        "id": "view-in-github",
        "colab_type": "text"
      },
      "source": [
        "<a href=\"https://colab.research.google.com/github/quinkly-rea-again/quinkly-rea-again/blob/main/Scientific_Slider_Calculator.ipynb\" target=\"_parent\"><img src=\"https://colab.research.google.com/assets/colab-badge.svg\" alt=\"Open In Colab\"/></a>"
      ]
    },
    {
      "cell_type": "markdown",
      "source": [
        "# Calculator"
      ],
      "metadata": {
        "id": "DBqJCTl2DpYN"
      }
    },
    {
      "cell_type": "code",
      "execution_count": 24,
      "metadata": {
        "colab": {
          "base_uri": "https://localhost:8080/",
          "height": 156,
          "referenced_widgets": [
            "80737e162a884928b77819f34510d7b1",
            "e6f02c7c29d349b18a36ef3f81139eef",
            "f596a42eca3a43529e1e1bd5d1f6989d",
            "4bbd233e71d74532b6fca75dcfa9354b",
            "b2762743855b4f2ca0604ceaf942f28c",
            "cc84be38d75e4b24b9edb09da24d86c5",
            "97a155f6147e4ed0a39b6692f39e8b29",
            "10fa03ed3f6040ce9a0e0d4ff35bd506",
            "4a797ada225c47de8f6ea02bde246765",
            "58e85e81e4f34464ad1dc433a71d178a",
            "3a483184f1654564b2279ade0ee07c11",
            "3462e599f9ad4470bf2af60a7f970e8b",
            "eb46b08a04d04a9487479ee1bbcd7fec",
            "d54b755fde1947c4bab83f0822d698aa"
          ]
        },
        "id": "D8F7iPnh80g5",
        "outputId": "68b5371b-d104-459e-874d-8005a25c4ab0"
      },
      "outputs": [
        {
          "output_type": "display_data",
          "data": {
            "text/plain": [
              "FloatSlider(value=0.0, continuous_update=False, description='Real:', min=-100.0)"
            ],
            "application/vnd.jupyter.widget-view+json": {
              "version_major": 2,
              "version_minor": 0,
              "model_id": "80737e162a884928b77819f34510d7b1"
            }
          },
          "metadata": {}
        },
        {
          "output_type": "display_data",
          "data": {
            "text/plain": [
              "FloatSlider(value=0.0, continuous_update=False, description='Imaginary:', min=-100.0)"
            ],
            "application/vnd.jupyter.widget-view+json": {
              "version_major": 2,
              "version_minor": 0,
              "model_id": "4bbd233e71d74532b6fca75dcfa9354b"
            }
          },
          "metadata": {}
        },
        {
          "output_type": "display_data",
          "data": {
            "text/plain": [
              "Dropdown(description='Irrational:', options=('None', 'pi', 'tau', 'e'), value='None')"
            ],
            "application/vnd.jupyter.widget-view+json": {
              "version_major": 2,
              "version_minor": 0,
              "model_id": "97a155f6147e4ed0a39b6692f39e8b29"
            }
          },
          "metadata": {}
        },
        {
          "output_type": "display_data",
          "data": {
            "text/plain": [
              "Dropdown(description='Operation:', options=('+', '-', '*', '/', '**'), value='+')"
            ],
            "application/vnd.jupyter.widget-view+json": {
              "version_major": 2,
              "version_minor": 0,
              "model_id": "58e85e81e4f34464ad1dc433a71d178a"
            }
          },
          "metadata": {}
        },
        {
          "output_type": "display_data",
          "data": {
            "text/plain": [
              "Output()"
            ],
            "application/vnd.jupyter.widget-view+json": {
              "version_major": 2,
              "version_minor": 0,
              "model_id": "eb46b08a04d04a9487479ee1bbcd7fec"
            }
          },
          "metadata": {}
        }
      ],
      "source": [
        "Variable = \"\" # @param {type:\"string\"}\n",
        "Markdown = None # @param [\"None\", \"f\", \"m\"] {type:\"raw\"}\n",
        "# prompt: a slider for imaginary numbers. also use i for imaginary numbers insead of j. and add the real numbers for the other slider. and add a button to add or substract them.and make the real slider up from -100 to 100, and the imaginary slider from -100i to 100i. and add decimals. and add multiply, divide and  to the power of. and add a picker for adding pi, tau, euler contant or more irrational numbers\n",
        "\n",
        "import ipywidgets as widgets\n",
        "from IPython.display import display\n",
        "\n",
        "# Real number slider\n",
        "real_slider = widgets.FloatSlider(\n",
        "    value=0,\n",
        "    min=-100.0,\n",
        "    max=100.0,\n",
        "    step=0.1,\n",
        "    description='Real:',\n",
        "    continuous_update=False\n",
        ")\n",
        "\n",
        "# Imaginary number slider\n",
        "imag_slider = widgets.FloatSlider(\n",
        "    value=0,\n",
        "    min=-100.0,\n",
        "    max=100.0,\n",
        "    step=0.1,\n",
        "    description='Imaginary:',\n",
        "    continuous_update=False\n",
        ")\n",
        "\n",
        "# Operation dropdown\n",
        "operation_dropdown = widgets.Dropdown(\n",
        "    options=['+', '-', '*', '/', '**'],\n",
        "    value='+',\n",
        "    description='Operation:',\n",
        ")\n",
        "\n",
        "# Irrational number picker\n",
        "irrational_picker = widgets.Dropdown(\n",
        "    options=['None', 'pi', 'tau', 'e'],\n",
        "    value='None',\n",
        "    description='Irrational:',\n",
        ")\n",
        "\n",
        "# Output widget\n",
        "output = widgets.Output()\n",
        "\n",
        "# Calculation function\n",
        "def calculate(change):\n",
        "    real1 = real_slider.value\n",
        "    imag1 = imag_slider.value\n",
        "    operation = operation_dropdown.value\n",
        "    irrational = irrational_picker.value\n",
        "\n",
        "    if irrational == 'pi':\n",
        "        real2 = 3.14159\n",
        "        imag2 = 0\n",
        "    elif irrational == 'tau':\n",
        "        real2 = 6.28318\n",
        "        imag2 = 0\n",
        "    elif irrational == 'e':\n",
        "        real2 = 2.71828\n",
        "        imag2 = 0\n",
        "    else:\n",
        "        real2 = 0\n",
        "        imag2 = 0\n",
        "\n",
        "    if operation == '+':\n",
        "        result_real = real1 + real2\n",
        "        result_imag = imag1 + imag2\n",
        "    elif operation == '-':\n",
        "        result_real = real1 - real2\n",
        "        result_imag = imag1 - imag2\n",
        "    elif operation == '*':\n",
        "        result_real = real1 * real2 - imag1 * imag2\n",
        "        result_imag = real1 * imag2 + imag1 * real2\n",
        "    elif operation == '/':\n",
        "        denominator = real2**2 + imag2**2\n",
        "        result_real = (real1 * real2 + imag1 * imag2) / denominator\n",
        "        result_imag = (-real1 * imag2 + imag1 * real2) / denominator\n",
        "    elif operation == '**':\n",
        "        # Handle complex exponentiation (this is a simplification)\n",
        "        result_real = (real1 ** real2) * (imag1 ** imag2)\n",
        "        result_imag = 0\n",
        "\n",
        "    with output:\n",
        "        output.clear_output()\n",
        "        print(f\"Result: {result_real:.2f} + {result_imag:.2f}i\")\n",
        "\n",
        "# Event handlers\n",
        "real_slider.observe(calculate, 'value')\n",
        "imag_slider.observe(calculate, 'value')\n",
        "operation_dropdown.observe(calculate, 'value')\n",
        "irrational_picker.observe(calculate, 'value')\n",
        "\n",
        "# Display widgets\n",
        "display(real_slider, imag_slider,  irrational_picker, operation_dropdown, output)\n"
      ]
    },
    {
      "cell_type": "markdown",
      "source": [
        "# Support\n"
      ],
      "metadata": {
        "id": "M_PRKTDHIgqN"
      }
    },
    {
      "cell_type": "code",
      "source": [
        "print(\"This calculator is not complete. so there will be bugs.\")"
      ],
      "metadata": {
        "colab": {
          "base_uri": "https://localhost:8080/"
        },
        "id": "ED4mOT4fEiVN",
        "outputId": "ea4b1d46-ea19-46d8-d55b-edac6d173940"
      },
      "execution_count": 14,
      "outputs": [
        {
          "output_type": "stream",
          "name": "stdout",
          "text": [
            "This calculator is not complete. so there will be bugs.\n"
          ]
        }
      ]
    },
    {
      "cell_type": "markdown",
      "source": [
        "Contact us [here](https://free-5333936.webadorsite.com/)."
      ],
      "metadata": {
        "id": "pvp7hRbyIsfl"
      }
    },
    {
      "cell_type": "markdown",
      "source": [
        "# What is this Calculator?\n",
        "this Calculator is a Python calculator that works as a scientific calculator in the web. this is still in development so there might be bugs and glitches in the Python script!"
      ],
      "metadata": {
        "id": "czJ-XZt2D2cP"
      }
    }
  ]
}