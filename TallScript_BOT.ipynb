{
  "nbformat": 4,
  "nbformat_minor": 0,
  "metadata": {
    "colab": {
      "provenance": [],
      "authorship_tag": "ABX9TyPIatOkcOQKxkADtaXGNVzH",
      "include_colab_link": true
    },
    "kernelspec": {
      "name": "python3",
      "display_name": "Python 3"
    },
    "language_info": {
      "name": "python"
    }
  },
  "cells": [
    {
      "cell_type": "markdown",
      "metadata": {
        "id": "view-in-github",
        "colab_type": "text"
      },
      "source": [
        "<a href=\"https://colab.research.google.com/github/quinkly-rea-again/quinkly-rea-again/blob/main/TallScript_BOT.ipynb\" target=\"_parent\"><img src=\"https://colab.research.google.com/assets/colab-badge.svg\" alt=\"Open In Colab\"/></a>"
      ]
    },
    {
      "cell_type": "code",
      "execution_count": null,
      "metadata": {
        "colab": {
          "base_uri": "https://localhost:8080/"
        },
        "id": "wz2wdCy8nyAj",
        "outputId": "b1a54925-8c6a-4da1-c139-23dc16c70d12"
      },
      "outputs": [
        {
          "output_type": "stream",
          "name": "stdout",
          "text": [
            "Hello TallScript!\n"
          ]
        }
      ],
      "source": [
        "print(\"Hello TallScript!\")"
      ]
    },
    {
      "cell_type": "markdown",
      "source": [
        "We Use Code To Make The TallScript BOT. [Try It Out Now!](https://sites.google.com/view/tallscript)\n",
        "\n",
        "\n",
        "\n",
        "```\n",
        "Hi! I'm TallScript BOT. How Are You?\n",
        "```\n",
        "\n",
        "\n",
        "\n",
        "\n",
        "\n",
        "\n",
        "\n"
      ],
      "metadata": {
        "id": "d51odv7Po75q"
      }
    },
    {
      "cell_type": "code",
      "source": [
        "Prompt = \"False\" # @param {type:\"string\"}\n",
        "print(\"I guess there is no point then.\")\n",
        "\n",
        "Prompt = \"Draw a circle\" # @param {type:\"string\"}\n",
        "print(\"°\")\n",
        "\n",
        "Prompt = \"How to draw a circle\" # @param {type:\"string\"}\n",
        "print(\"Draw circles: Freehand, compass, trace, or string.\")\n",
        "\n",
        "Prompt = \"How to play Sudoku\" # @param {type:\"string\"}\n",
        "print(\"Play: Clues, logic for missing numbers.\")\n",
        "\n",
        "Prompt = \" \" # @param {type:\"string\"}\n",
        "print(\".                                                                                                                                                                                                                                                           \")"
      ],
      "metadata": {
        "colab": {
          "base_uri": "https://localhost:8080/"
        },
        "id": "pHNG60ravodJ",
        "outputId": "4db3a9b0-740a-4a94-df7c-94273befad25"
      },
      "execution_count": 16,
      "outputs": [
        {
          "output_type": "stream",
          "name": "stdout",
          "text": [
            "I guess there is no point then.\n",
            "°\n",
            "Draw circles: Freehand, compass, trace, or string.\n",
            "Play: Clues, logic for missing numbers.\n"
          ]
        }
      ]
    },
    {
      "cell_type": "code",
      "source": [],
      "metadata": {
        "id": "hyRYNtrJlofR"
      },
      "execution_count": null,
      "outputs": []
    }
  ]
}